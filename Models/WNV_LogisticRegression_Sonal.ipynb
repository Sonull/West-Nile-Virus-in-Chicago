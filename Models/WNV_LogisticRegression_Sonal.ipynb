{
 "cells": [
  {
   "cell_type": "code",
   "execution_count": 110,
   "metadata": {},
   "outputs": [
    {
     "name": "stdout",
     "output_type": "stream",
     "text": [
      "#########################\n",
      "Importing required packages \n",
      "#########################\n"
     ]
    }
   ],
   "source": [
    "print('#########################')\n",
    "print('Importing required packages ')\n",
    "print('#########################')\n",
    "\n",
    "#Importing required packages\n",
    "import pandas as pd\n",
    "import numpy as np\n",
    "from sklearn.linear_model import LogisticRegression\n",
    "from statsmodels.stats.outliers_influence import variance_inflation_factor\n",
    "from sklearn import linear_model\n",
    "import statsmodels.api as sm\n",
    "import pickle\n",
    "from scipy.stats import rankdata\n",
    "import smtplib\n",
    "import datetime\n",
    "import seaborn as sns\n",
    "import matplotlib.pyplot as plt\n",
    "from sklearn.model_selection import train_test_split\n",
    "from sklearn.linear_model import LogisticRegression\n",
    "from sklearn.feature_extraction.text import CountVectorizer,TfidfVectorizer\n",
    "import logging\n",
    "from sklearn import metrics\n",
    "from imblearn.over_sampling import SMOTE"
   ]
  },
  {
   "cell_type": "code",
   "execution_count": 2,
   "metadata": {},
   "outputs": [
    {
     "data": {
      "text/html": [
       "<div>\n",
       "<style scoped>\n",
       "    .dataframe tbody tr th:only-of-type {\n",
       "        vertical-align: middle;\n",
       "    }\n",
       "\n",
       "    .dataframe tbody tr th {\n",
       "        vertical-align: top;\n",
       "    }\n",
       "\n",
       "    .dataframe thead th {\n",
       "        text-align: right;\n",
       "    }\n",
       "</style>\n",
       "<table border=\"1\" class=\"dataframe\">\n",
       "  <thead>\n",
       "    <tr style=\"text-align: right;\">\n",
       "      <th></th>\n",
       "      <th>Date</th>\n",
       "      <th>Address</th>\n",
       "      <th>Species</th>\n",
       "      <th>Block</th>\n",
       "      <th>Street</th>\n",
       "      <th>Trap</th>\n",
       "      <th>AddressNumberAndStreet</th>\n",
       "      <th>Latitude</th>\n",
       "      <th>Longitude</th>\n",
       "      <th>AddressAccuracy</th>\n",
       "      <th>...</th>\n",
       "      <th>GR</th>\n",
       "      <th>HZ</th>\n",
       "      <th>NO_EVENT</th>\n",
       "      <th>RA</th>\n",
       "      <th>SN</th>\n",
       "      <th>SQ</th>\n",
       "      <th>TS</th>\n",
       "      <th>TSRA</th>\n",
       "      <th>VCFG</th>\n",
       "      <th>VCTS</th>\n",
       "    </tr>\n",
       "  </thead>\n",
       "  <tbody>\n",
       "    <tr>\n",
       "      <th>0</th>\n",
       "      <td>2007-05-29</td>\n",
       "      <td>1100 Roosevelt Road, Chicago, IL 60608, USA</td>\n",
       "      <td>CULEX PIPIENS/RESTUANS</td>\n",
       "      <td>11</td>\n",
       "      <td>W ROOSEVELT</td>\n",
       "      <td>T048</td>\n",
       "      <td>1100  W ROOSEVELT, Chicago, IL</td>\n",
       "      <td>41.867108</td>\n",
       "      <td>-87.654224</td>\n",
       "      <td>8</td>\n",
       "      <td>...</td>\n",
       "      <td>0</td>\n",
       "      <td>1</td>\n",
       "      <td>0</td>\n",
       "      <td>0</td>\n",
       "      <td>0</td>\n",
       "      <td>0</td>\n",
       "      <td>0</td>\n",
       "      <td>0</td>\n",
       "      <td>0</td>\n",
       "      <td>0</td>\n",
       "    </tr>\n",
       "    <tr>\n",
       "      <th>1</th>\n",
       "      <td>2007-05-29</td>\n",
       "      <td>1100 Roosevelt Road, Chicago, IL 60608, USA</td>\n",
       "      <td>CULEX RESTUANS</td>\n",
       "      <td>11</td>\n",
       "      <td>W ROOSEVELT</td>\n",
       "      <td>T048</td>\n",
       "      <td>1100  W ROOSEVELT, Chicago, IL</td>\n",
       "      <td>41.867108</td>\n",
       "      <td>-87.654224</td>\n",
       "      <td>8</td>\n",
       "      <td>...</td>\n",
       "      <td>0</td>\n",
       "      <td>1</td>\n",
       "      <td>0</td>\n",
       "      <td>0</td>\n",
       "      <td>0</td>\n",
       "      <td>0</td>\n",
       "      <td>0</td>\n",
       "      <td>0</td>\n",
       "      <td>0</td>\n",
       "      <td>0</td>\n",
       "    </tr>\n",
       "  </tbody>\n",
       "</table>\n",
       "<p>2 rows × 76 columns</p>\n",
       "</div>"
      ],
      "text/plain": [
       "         Date                                      Address  \\\n",
       "0  2007-05-29  1100 Roosevelt Road, Chicago, IL 60608, USA   \n",
       "1  2007-05-29  1100 Roosevelt Road, Chicago, IL 60608, USA   \n",
       "\n",
       "                  Species  Block        Street  Trap  \\\n",
       "0  CULEX PIPIENS/RESTUANS     11   W ROOSEVELT  T048   \n",
       "1          CULEX RESTUANS     11   W ROOSEVELT  T048   \n",
       "\n",
       "           AddressNumberAndStreet   Latitude  Longitude  AddressAccuracy  ...  \\\n",
       "0  1100  W ROOSEVELT, Chicago, IL  41.867108 -87.654224                8  ...   \n",
       "1  1100  W ROOSEVELT, Chicago, IL  41.867108 -87.654224                8  ...   \n",
       "\n",
       "   GR  HZ  NO_EVENT  RA  SN  SQ  TS  TSRA  VCFG  VCTS  \n",
       "0   0   1         0   0   0   0   0     0     0     0  \n",
       "1   0   1         0   0   0   0   0     0     0     0  \n",
       "\n",
       "[2 rows x 76 columns]"
      ]
     },
     "execution_count": 2,
     "metadata": {},
     "output_type": "execute_result"
    }
   ],
   "source": [
    "data=pd.read_csv('Train_spray_weather_v1.csv')\n",
    "data.head(2)"
   ]
  },
  {
   "cell_type": "markdown",
   "metadata": {},
   "source": [
    "### Dropping Few Columns before buidling a model"
   ]
  },
  {
   "cell_type": "code",
   "execution_count": 3,
   "metadata": {},
   "outputs": [],
   "source": [
    "df_final = data.drop(['NumMosquitos',\n",
    "                   'Address',\n",
    "                   'AddressNumberAndStreet',\n",
    "                   'Street','Date','Block','CodeSum_Station','AddressAccuracy','BCFG','BR',\n",
    "                     'DZ',\n",
    "                     'FG',\n",
    "                     'FGplus_',\n",
    "                     'FU',\n",
    "                     'GR',\n",
    "                     'HZ',\n",
    "                     'NO_EVENT',\n",
    "                     'RA',\n",
    "                     'SN',\n",
    "                     'SQ',\n",
    "                     'TS',\n",
    "                     'TSRA',\n",
    "                     'VCFG',\n",
    "                     'VCTS'],axis=1)"
   ]
  },
  {
   "cell_type": "markdown",
   "metadata": {},
   "source": [
    "### Creating a variable for length of day\n"
   ]
  },
  {
   "cell_type": "code",
   "execution_count": 4,
   "metadata": {},
   "outputs": [],
   "source": [
    "df_final['Sunrise_Station'] = pd.to_datetime(df_final['Sunrise_Station'],format='%H:%M:%S')\n",
    "df_final['Sunset_Station'] = pd.to_datetime(df_final['Sunset_Station'], format='%H:%M:%S')\n",
    "df_final['length_of_day']=(df_final['Sunset_Station'] - df_final['Sunrise_Station']).dt.total_seconds()\n",
    "df_final['length_of_day']=df_final['length_of_day'].astype(int)\n",
    "df_final = df_final.drop(['Sunrise_Station', 'Sunset_Station'], axis=1)"
   ]
  },
  {
   "cell_type": "markdown",
   "metadata": {},
   "source": [
    "### Original Distribution of dependent variable"
   ]
  },
  {
   "cell_type": "code",
   "execution_count": 66,
   "metadata": {},
   "outputs": [
    {
     "name": "stdout",
     "output_type": "stream",
     "text": [
      "WnvPresent\n",
      "0    8153\n",
      "1     457\n",
      "Name: WnvPresent, dtype: int64\n"
     ]
    }
   ],
   "source": [
    "print(\"WnvPresent\",df_final.WnvPresent.value_counts(), sep='\\n')"
   ]
  },
  {
   "cell_type": "code",
   "execution_count": 67,
   "metadata": {},
   "outputs": [
    {
     "data": {
      "text/plain": [
       "<matplotlib.axes._subplots.AxesSubplot at 0x1c227c8a20>"
      ]
     },
     "execution_count": 67,
     "metadata": {},
     "output_type": "execute_result"
    },
    {
     "data": {
      "image/png": "[encoded data removed]",
      "text/plain": [
       "<Figure size 432x288 with 1 Axes>"
      ]
     },
     "metadata": {
      "needs_background": "light"
     },
     "output_type": "display_data"
    }
   ],
   "source": [
    "df_final[\"WnvPresent\"].value_counts().plot(kind='bar',color=['green','red'],title=\"Frequency Distribution\")"
   ]
  },
  {
   "cell_type": "markdown",
   "metadata": {},
   "source": [
    "### Prep for model building"
   ]
  },
  {
   "cell_type": "code",
   "execution_count": 5,
   "metadata": {},
   "outputs": [
    {
     "name": "stdout",
     "output_type": "stream",
     "text": [
      "##################################\n",
      "Defining all input variables here \n",
      "##################################\n"
     ]
    }
   ],
   "source": [
    "print('##################################')\n",
    "print('Defining all input variables here ')\n",
    "print('##################################')\n",
    "\n",
    "\n",
    "# Input Dependant variable \n",
    "dep_var =  'WnvPresent'\n",
    "\n",
    "# Input the thereshold for VIF\n",
    "thresh = 2.0\n",
    "\n",
    "\n",
    "# Input Variables which are neither dependant nor independant\n",
    "species_var = 'Species'\n",
    "Trap_var = 'Trap'\n",
    "year_var = 'year'\n",
    "month_var = 'month'\n",
    "day_var = 'day'"
   ]
  },
  {
   "cell_type": "markdown",
   "metadata": {},
   "source": [
    "### Identifying those variables that contribute to 90% of variation"
   ]
  },
  {
   "cell_type": "code",
   "execution_count": 54,
   "metadata": {},
   "outputs": [
    {
     "name": "stdout",
     "output_type": "stream",
     "text": [
      "########################################################################################\n",
      "Identifying those variables that explain 90% of the variation in the dependent variable \n",
      "########################################################################################\n"
     ]
    },
    {
     "name": "stderr",
     "output_type": "stream",
     "text": [
      "/Users/sonal/anaconda3/lib/python3.7/site-packages/sklearn/linear_model/logistic.py:432: FutureWarning: Default solver will be changed to 'lbfgs' in 0.22. Specify a solver to silence this warning.\n",
      "  FutureWarning)\n"
     ]
    },
    {
     "name": "stdout",
     "output_type": "stream",
     "text": [
      "The Total no of variables explaning 90% of variation is 18\n",
      "\n",
      "Rigde done\n",
      "\n",
      "The variables remaining after ridge regression are:-\n",
      "['month', 'length_of_day', 'Cool_Station', 'WetBulb_Station_c', 'dist_2013-08-08 00:00:00', 'Tmin_Station', 'DewPoint_Station', 'dist_2011-09-07 00:00:00', 'trap_dist_st1', 'ResultSpeed_Station', 'WetBulb_Station', 'dist_2011-08-29 00:00:00', 'rel_hum_station', 'dist_2013-08-16 00:00:00', 'AvgSpeed_Station', 'Depart_Station', 'dist_2013-07-25 00:00:00', 'Station']\n"
     ]
    }
   ],
   "source": [
    "# Running a ridge regression to identify the variables contributing at least 90% of the variation of the dependant variables\n",
    "\n",
    "###### variable reduction based on ridge regression ########\n",
    "print('########################################################################################')\n",
    "print('Identifying those variables that explain 90% of the variation in the dependent variable ')\n",
    "print('########################################################################################')\n",
    "\n",
    "ind_var_aft_trans=list(df_final)\n",
    "ind_var_aft_trans.remove(species_var)\n",
    "ind_var_aft_trans.remove(dep_var)\n",
    "ind_var_aft_trans.remove(Trap_var)\n",
    "\n",
    "indepvar=pd.DataFrame()\n",
    "indepvar = df_final[ind_var_aft_trans]\n",
    "depvar = df_final[dep_var]\n",
    "\n",
    "#  normalising the dataset before running ridge\n",
    "indepvar_norm = (indepvar - indepvar.mean()) / indepvar.mean()\n",
    "\n",
    "# Applying l2 penalty - ridge\n",
    "lassoreg = linear_model.LogisticRegression(C=1.0, penalty='l2', tol=1e-6)\n",
    "lassoreg.fit(indepvar_norm,depvar)\n",
    "\n",
    "col = list(indepvar) \n",
    "coef = pd.DataFrame(lassoreg.coef_,columns = col)\n",
    "nonzero = coef.apply(lambda x: sum(x.values!=0),axis=1)\n",
    "coeff_matrix_lasso_temp = coef.T.abs()\n",
    "coeff_matrix_lasso_temp.columns=['coef']\n",
    "# coeff_matrix_lasso=coeff_matrix_lasso_temp.sort('coef', ascending=False).head(20)\n",
    "\n",
    "# Creating a dataframe to identify the most significant variables\n",
    "lasso_coeffs=pd.DataFrame()\n",
    "lasso_coeffs=coeff_matrix_lasso_temp.sort_values('coef', ascending=False)\n",
    "lasso_coeffs.reset_index(level=0, inplace=True)\n",
    "lasso_coeffs['cum_coef']=lasso_coeffs.coef.cumsum()\n",
    "lasso_coeffs['perc_coeff']=lasso_coeffs.cum_coef/lasso_coeffs.coef.sum()\n",
    "\n",
    "# Getting the list of variables which define 90% variation\n",
    "total=len(lasso_coeffs[lasso_coeffs.perc_coeff<=0.90])\n",
    "\n",
    "print(\"The Total no of variables explaning 90% of variation is \"+str(total))\n",
    "\n",
    "coeff_matrix_lasso=coeff_matrix_lasso_temp.sort_values('coef', ascending=False).head(min(total,nonzero[0]))\n",
    "\n",
    "print('\\nRigde done\\n')\n",
    "coll = coeff_matrix_lasso.index.tolist()\n",
    "print(\"The variables remaining after ridge regression are:-\")\n",
    "print(coll)"
   ]
  },
  {
   "cell_type": "markdown",
   "metadata": {},
   "source": [
    "### Getting the individual sign of these variables"
   ]
  },
  {
   "cell_type": "code",
   "execution_count": 7,
   "metadata": {},
   "outputs": [
    {
     "name": "stdout",
     "output_type": "stream",
     "text": [
      "Warning: Maximum number of iterations has been exceeded.\n",
      "         Current function value: 0.181354\n",
      "         Iterations: 35\n",
      "Warning: Maximum number of iterations has been exceeded.\n",
      "         Current function value: 0.181354\n",
      "         Iterations: 35\n",
      "Warning: Maximum number of iterations has been exceeded.\n",
      "         Current function value: 0.181354\n",
      "         Iterations: 35\n",
      "Warning: Maximum number of iterations has been exceeded.\n",
      "         Current function value: 0.181354\n",
      "         Iterations: 35\n",
      "Warning: Maximum number of iterations has been exceeded.\n",
      "         Current function value: 0.181354\n",
      "         Iterations: 35\n"
     ]
    },
    {
     "name": "stderr",
     "output_type": "stream",
     "text": [
      "/Users/sonal/anaconda3/lib/python3.7/site-packages/statsmodels/base/model.py:512: ConvergenceWarning: Maximum Likelihood optimization failed to converge. Check mle_retvals\n",
      "  \"Check mle_retvals\", ConvergenceWarning)\n",
      "/Users/sonal/anaconda3/lib/python3.7/site-packages/statsmodels/base/model.py:512: ConvergenceWarning: Maximum Likelihood optimization failed to converge. Check mle_retvals\n",
      "  \"Check mle_retvals\", ConvergenceWarning)\n",
      "/Users/sonal/anaconda3/lib/python3.7/site-packages/statsmodels/base/model.py:512: ConvergenceWarning: Maximum Likelihood optimization failed to converge. Check mle_retvals\n",
      "  \"Check mle_retvals\", ConvergenceWarning)\n",
      "/Users/sonal/anaconda3/lib/python3.7/site-packages/statsmodels/base/model.py:512: ConvergenceWarning: Maximum Likelihood optimization failed to converge. Check mle_retvals\n",
      "  \"Check mle_retvals\", ConvergenceWarning)\n",
      "/Users/sonal/anaconda3/lib/python3.7/site-packages/statsmodels/base/model.py:512: ConvergenceWarning: Maximum Likelihood optimization failed to converge. Check mle_retvals\n",
      "  \"Check mle_retvals\", ConvergenceWarning)\n"
     ]
    },
    {
     "name": "stdout",
     "output_type": "stream",
     "text": [
      "Warning: Maximum number of iterations has been exceeded.\n",
      "         Current function value: 0.181354\n",
      "         Iterations: 35\n",
      "Warning: Maximum number of iterations has been exceeded.\n",
      "         Current function value: 0.181354\n",
      "         Iterations: 35\n",
      "Warning: Maximum number of iterations has been exceeded.\n",
      "         Current function value: 0.181354\n",
      "         Iterations: 35\n",
      "Warning: Maximum number of iterations has been exceeded.\n",
      "         Current function value: 0.181354\n",
      "         Iterations: 35\n",
      "Warning: Maximum number of iterations has been exceeded.\n",
      "         Current function value: 0.181354\n",
      "         Iterations: 35\n"
     ]
    },
    {
     "name": "stderr",
     "output_type": "stream",
     "text": [
      "/Users/sonal/anaconda3/lib/python3.7/site-packages/statsmodels/base/model.py:512: ConvergenceWarning: Maximum Likelihood optimization failed to converge. Check mle_retvals\n",
      "  \"Check mle_retvals\", ConvergenceWarning)\n",
      "/Users/sonal/anaconda3/lib/python3.7/site-packages/statsmodels/base/model.py:512: ConvergenceWarning: Maximum Likelihood optimization failed to converge. Check mle_retvals\n",
      "  \"Check mle_retvals\", ConvergenceWarning)\n",
      "/Users/sonal/anaconda3/lib/python3.7/site-packages/statsmodels/base/model.py:512: ConvergenceWarning: Maximum Likelihood optimization failed to converge. Check mle_retvals\n",
      "  \"Check mle_retvals\", ConvergenceWarning)\n",
      "/Users/sonal/anaconda3/lib/python3.7/site-packages/statsmodels/base/model.py:512: ConvergenceWarning: Maximum Likelihood optimization failed to converge. Check mle_retvals\n",
      "  \"Check mle_retvals\", ConvergenceWarning)\n",
      "/Users/sonal/anaconda3/lib/python3.7/site-packages/statsmodels/base/model.py:512: ConvergenceWarning: Maximum Likelihood optimization failed to converge. Check mle_retvals\n",
      "  \"Check mle_retvals\", ConvergenceWarning)\n"
     ]
    },
    {
     "name": "stdout",
     "output_type": "stream",
     "text": [
      "Warning: Maximum number of iterations has been exceeded.\n",
      "         Current function value: 0.181354\n",
      "         Iterations: 35\n",
      "Warning: Maximum number of iterations has been exceeded.\n",
      "         Current function value: 0.181354\n",
      "         Iterations: 35\n",
      "Warning: Maximum number of iterations has been exceeded.\n",
      "         Current function value: 0.181354\n",
      "         Iterations: 35\n",
      "Warning: Maximum number of iterations has been exceeded.\n",
      "         Current function value: 0.181354\n",
      "         Iterations: 35\n",
      "Warning: Maximum number of iterations has been exceeded.\n",
      "         Current function value: 0.181354\n",
      "         Iterations: 35\n"
     ]
    },
    {
     "name": "stderr",
     "output_type": "stream",
     "text": [
      "/Users/sonal/anaconda3/lib/python3.7/site-packages/statsmodels/base/model.py:512: ConvergenceWarning: Maximum Likelihood optimization failed to converge. Check mle_retvals\n",
      "  \"Check mle_retvals\", ConvergenceWarning)\n",
      "/Users/sonal/anaconda3/lib/python3.7/site-packages/statsmodels/base/model.py:512: ConvergenceWarning: Maximum Likelihood optimization failed to converge. Check mle_retvals\n",
      "  \"Check mle_retvals\", ConvergenceWarning)\n",
      "/Users/sonal/anaconda3/lib/python3.7/site-packages/statsmodels/base/model.py:512: ConvergenceWarning: Maximum Likelihood optimization failed to converge. Check mle_retvals\n",
      "  \"Check mle_retvals\", ConvergenceWarning)\n",
      "/Users/sonal/anaconda3/lib/python3.7/site-packages/statsmodels/base/model.py:512: ConvergenceWarning: Maximum Likelihood optimization failed to converge. Check mle_retvals\n",
      "  \"Check mle_retvals\", ConvergenceWarning)\n",
      "/Users/sonal/anaconda3/lib/python3.7/site-packages/statsmodels/base/model.py:512: ConvergenceWarning: Maximum Likelihood optimization failed to converge. Check mle_retvals\n",
      "  \"Check mle_retvals\", ConvergenceWarning)\n"
     ]
    },
    {
     "name": "stdout",
     "output_type": "stream",
     "text": [
      "Warning: Maximum number of iterations has been exceeded.\n",
      "         Current function value: 0.181354\n",
      "         Iterations: 35\n",
      "Warning: Maximum number of iterations has been exceeded.\n",
      "         Current function value: 0.181354\n",
      "         Iterations: 35\n",
      "Warning: Maximum number of iterations has been exceeded.\n",
      "         Current function value: 0.181354\n",
      "         Iterations: 35\n",
      "Warning: Maximum number of iterations has been exceeded.\n",
      "         Current function value: 0.181354\n",
      "         Iterations: 35\n"
     ]
    },
    {
     "name": "stderr",
     "output_type": "stream",
     "text": [
      "/Users/sonal/anaconda3/lib/python3.7/site-packages/statsmodels/base/model.py:512: ConvergenceWarning: Maximum Likelihood optimization failed to converge. Check mle_retvals\n",
      "  \"Check mle_retvals\", ConvergenceWarning)\n",
      "/Users/sonal/anaconda3/lib/python3.7/site-packages/statsmodels/base/model.py:512: ConvergenceWarning: Maximum Likelihood optimization failed to converge. Check mle_retvals\n",
      "  \"Check mle_retvals\", ConvergenceWarning)\n",
      "/Users/sonal/anaconda3/lib/python3.7/site-packages/statsmodels/base/model.py:512: ConvergenceWarning: Maximum Likelihood optimization failed to converge. Check mle_retvals\n",
      "  \"Check mle_retvals\", ConvergenceWarning)\n",
      "/Users/sonal/anaconda3/lib/python3.7/site-packages/statsmodels/base/model.py:512: ConvergenceWarning: Maximum Likelihood optimization failed to converge. Check mle_retvals\n",
      "  \"Check mle_retvals\", ConvergenceWarning)\n"
     ]
    }
   ],
   "source": [
    "###### sign check ##################################\n",
    "\n",
    "# To check if the variables change sign due to multi-collinearity among the independant variables\n",
    "varlist = coll\n",
    "df_final[\"intercept\"] = 1.0\n",
    "varlist.append('intercept')\n",
    "for i in np.arange(0,len(varlist)):\n",
    "    \n",
    "    logits = sm.Logit(df_final.loc[:,dep_var], df_final[varlist]).fit()\n",
    "\n",
    "    val =pd.concat((logits.params, abs(logits.tvalues)), axis=1)\n",
    "    val.reset_index(level=0, inplace=True)\n",
    "    val.columns=['variable','beta','tval']\n",
    "    val.loc[val['beta'] >= 0, 'sign_final'] = '+'\n",
    "    val.loc[val['beta'] < 0, 'sign_final'] = '-'"
   ]
  },
  {
   "cell_type": "code",
   "execution_count": 26,
   "metadata": {},
   "outputs": [
    {
     "data": {
      "text/plain": [
       "['month',\n",
       " 'length_of_day',\n",
       " 'Cool_Station',\n",
       " 'WetBulb_Station_c',\n",
       " 'dist_2013-08-08 00:00:00',\n",
       " 'Tmin_Station',\n",
       " 'DewPoint_Station',\n",
       " 'dist_2011-09-07 00:00:00',\n",
       " 'trap_dist_st1',\n",
       " 'ResultSpeed_Station',\n",
       " 'WetBulb_Station',\n",
       " 'dist_2011-08-29 00:00:00',\n",
       " 'rel_hum_station',\n",
       " 'dist_2013-08-16 00:00:00',\n",
       " 'AvgSpeed_Station',\n",
       " 'Depart_Station',\n",
       " 'dist_2013-07-25 00:00:00',\n",
       " 'Station']"
      ]
     },
     "execution_count": 26,
     "metadata": {},
     "output_type": "execute_result"
    }
   ],
   "source": [
    "cols = list(val['variable'])\n",
    "cols.remove('intercept')\n",
    "cols"
   ]
  },
  {
   "cell_type": "markdown",
   "metadata": {},
   "source": [
    "## Model 1 - Using scikit"
   ]
  },
  {
   "cell_type": "code",
   "execution_count": 49,
   "metadata": {},
   "outputs": [
    {
     "name": "stdout",
     "output_type": "stream",
     "text": [
      "Starting model training...\n",
      "Training a Logistic Regression Model...\n",
      "[LibLinear]\n",
      "\n",
      "confusion matrix\n",
      "[[2050    0]\n",
      " [ 103    0]]\n",
      "\n",
      "\n",
      "Starting evaluation...\n",
      "Accuracy of the model:  0.9521597770552717\n"
     ]
    }
   ],
   "source": [
    "print(\"Starting model training...\")\n",
    "\n",
    "#     # GET A TRAIN TEST SPLIT (set seed for consistent results)\n",
    "training_data, testing_data = train_test_split(df_final,random_state = 2000,)\n",
    "\n",
    "# GET LABELS\n",
    "Y_train=training_data['WnvPresent'].values\n",
    "Y_test=testing_data['WnvPresent'].values\n",
    "\n",
    "X_train = training_data.loc[:, cols]\n",
    "X_test = testing_data.loc[:, cols]\n",
    "\n",
    "# INIT LOGISTIC REGRESSION CLASSIFIER\n",
    "print(\"Training a Logistic Regression Model...\",sep='\\n')\n",
    "scikit_log_reg = LogisticRegression(verbose=1, solver='liblinear',random_state=0, C=5, penalty='l2',max_iter=1000)\n",
    "\n",
    "model=scikit_log_reg.fit(X_train,Y_train)\n",
    "\n",
    "# Confusion Matrix \n",
    "Y_Pred = model.predict(X_test)\n",
    "matrix = metrics.confusion_matrix(Y_test, Y_Pred)\n",
    "print(\"\\n\")\n",
    "print(\"confusion matrix\",sep='\\n')\n",
    "matrix\n",
    "\n",
    "print(matrix)\n",
    "\n",
    "# GET EVALUATION NUMBERS ON TEST SET -- HOW DID WE DO?\n",
    "print('\\n')\n",
    "print(\"Starting evaluation...\")\n",
    "\n",
    "print(\"Accuracy of the model: \",metrics.accuracy_score(Y_test, Y_Pred))\n",
    "\n",
    "\n",
    "logging.info(\"Done training and evaluation.\")\n",
    "\n"
   ]
  },
  {
   "cell_type": "code",
   "execution_count": 75,
   "metadata": {},
   "outputs": [
    {
     "name": "stdout",
     "output_type": "stream",
     "text": [
      "The value of AUC is  0.6818493961638645\n"
     ]
    },
    {
     "data": {
      "image/png": "[encoded data removed]",
      "text/plain": [
       "<Figure size 432x288 with 1 Axes>"
      ]
     },
     "metadata": {
      "needs_background": "light"
     },
     "output_type": "display_data"
    }
   ],
   "source": [
    "y_pred_proba = model.predict_proba(X_test)[::,1]\n",
    "fpr, tpr, _ = metrics.roc_curve(Y_test,  y_pred_proba)\n",
    "auc = metrics.roc_auc_score(Y_test, y_pred_proba)\n",
    "plt.plot(fpr,tpr,label=\"ROC curve\")\n",
    "print(\"The value of AUC is \",auc)\n",
    "plt.legend(loc=2)\n",
    "plt.show()"
   ]
  },
  {
   "cell_type": "markdown",
   "metadata": {},
   "source": [
    "## Model 2 - Using statsmodels"
   ]
  },
  {
   "cell_type": "code",
   "execution_count": 79,
   "metadata": {},
   "outputs": [
    {
     "name": "stdout",
     "output_type": "stream",
     "text": [
      "Optimization terminated successfully.\n",
      "         Current function value: 0.185916\n",
      "         Iterations 9\n"
     ]
    }
   ],
   "source": [
    "#building a model using statsmodel library\n",
    "logits = sm.Logit(training_data.loc[:,'WnvPresent'], training_data[cols]).fit()"
   ]
  },
  {
   "cell_type": "code",
   "execution_count": 80,
   "metadata": {},
   "outputs": [
    {
     "data": {
      "text/html": [
       "<div>\n",
       "<style scoped>\n",
       "    .dataframe tbody tr th:only-of-type {\n",
       "        vertical-align: middle;\n",
       "    }\n",
       "\n",
       "    .dataframe tbody tr th {\n",
       "        vertical-align: top;\n",
       "    }\n",
       "\n",
       "    .dataframe thead th {\n",
       "        text-align: right;\n",
       "    }\n",
       "</style>\n",
       "<table border=\"1\" class=\"dataframe\">\n",
       "  <thead>\n",
       "    <tr style=\"text-align: right;\">\n",
       "      <th></th>\n",
       "      <th>coeff</th>\n",
       "      <th>pvals</th>\n",
       "      <th>t_val</th>\n",
       "      <th>conf_lower</th>\n",
       "      <th>conf_higher</th>\n",
       "      <th>wald_chi_sq</th>\n",
       "    </tr>\n",
       "  </thead>\n",
       "  <tbody>\n",
       "    <tr>\n",
       "      <th>month</th>\n",
       "      <td>0.426935</td>\n",
       "      <td>4.987416e-02</td>\n",
       "      <td>1.961042</td>\n",
       "      <td>0.000235</td>\n",
       "      <td>0.853636</td>\n",
       "      <td>3.845685</td>\n",
       "    </tr>\n",
       "    <tr>\n",
       "      <th>length_of_day</th>\n",
       "      <td>-0.000465</td>\n",
       "      <td>4.831834e-09</td>\n",
       "      <td>-5.852863</td>\n",
       "      <td>-0.000620</td>\n",
       "      <td>-0.000309</td>\n",
       "      <td>34.256000</td>\n",
       "    </tr>\n",
       "    <tr>\n",
       "      <th>Cool_Station</th>\n",
       "      <td>-0.045589</td>\n",
       "      <td>3.049141e-01</td>\n",
       "      <td>-1.025952</td>\n",
       "      <td>-0.132681</td>\n",
       "      <td>0.041503</td>\n",
       "      <td>1.052578</td>\n",
       "    </tr>\n",
       "    <tr>\n",
       "      <th>WetBulb_Station_c</th>\n",
       "      <td>0.677639</td>\n",
       "      <td>3.085025e-02</td>\n",
       "      <td>2.158999</td>\n",
       "      <td>0.062471</td>\n",
       "      <td>1.292808</td>\n",
       "      <td>4.661276</td>\n",
       "    </tr>\n",
       "    <tr>\n",
       "      <th>dist_2013-08-08 00:00:00</th>\n",
       "      <td>0.256193</td>\n",
       "      <td>8.724416e-02</td>\n",
       "      <td>1.710117</td>\n",
       "      <td>-0.037429</td>\n",
       "      <td>0.549815</td>\n",
       "      <td>2.924502</td>\n",
       "    </tr>\n",
       "    <tr>\n",
       "      <th>Tmin_Station</th>\n",
       "      <td>-0.004126</td>\n",
       "      <td>8.952771e-01</td>\n",
       "      <td>-0.131630</td>\n",
       "      <td>-0.065557</td>\n",
       "      <td>0.057306</td>\n",
       "      <td>0.017326</td>\n",
       "    </tr>\n",
       "    <tr>\n",
       "      <th>DewPoint_Station</th>\n",
       "      <td>0.040160</td>\n",
       "      <td>6.286645e-01</td>\n",
       "      <td>0.483607</td>\n",
       "      <td>-0.122600</td>\n",
       "      <td>0.202920</td>\n",
       "      <td>0.233876</td>\n",
       "    </tr>\n",
       "    <tr>\n",
       "      <th>dist_2011-09-07 00:00:00</th>\n",
       "      <td>-0.113172</td>\n",
       "      <td>5.138592e-01</td>\n",
       "      <td>-0.652840</td>\n",
       "      <td>-0.452938</td>\n",
       "      <td>0.226594</td>\n",
       "      <td>0.426201</td>\n",
       "    </tr>\n",
       "    <tr>\n",
       "      <th>trap_dist_st1</th>\n",
       "      <td>-0.168545</td>\n",
       "      <td>1.214753e-02</td>\n",
       "      <td>-2.507829</td>\n",
       "      <td>-0.300270</td>\n",
       "      <td>-0.036821</td>\n",
       "      <td>6.289209</td>\n",
       "    </tr>\n",
       "    <tr>\n",
       "      <th>ResultSpeed_Station</th>\n",
       "      <td>-0.118574</td>\n",
       "      <td>9.253574e-03</td>\n",
       "      <td>-2.602541</td>\n",
       "      <td>-0.207871</td>\n",
       "      <td>-0.029276</td>\n",
       "      <td>6.773220</td>\n",
       "    </tr>\n",
       "    <tr>\n",
       "      <th>WetBulb_Station</th>\n",
       "      <td>0.105172</td>\n",
       "      <td>5.845636e-01</td>\n",
       "      <td>0.546731</td>\n",
       "      <td>-0.271857</td>\n",
       "      <td>0.482200</td>\n",
       "      <td>0.298915</td>\n",
       "    </tr>\n",
       "    <tr>\n",
       "      <th>dist_2011-08-29 00:00:00</th>\n",
       "      <td>0.164095</td>\n",
       "      <td>1.136339e-01</td>\n",
       "      <td>1.582069</td>\n",
       "      <td>-0.039196</td>\n",
       "      <td>0.367387</td>\n",
       "      <td>2.502941</td>\n",
       "    </tr>\n",
       "    <tr>\n",
       "      <th>rel_hum_station</th>\n",
       "      <td>-0.115975</td>\n",
       "      <td>8.660541e-07</td>\n",
       "      <td>-4.919862</td>\n",
       "      <td>-0.162177</td>\n",
       "      <td>-0.069773</td>\n",
       "      <td>24.205039</td>\n",
       "    </tr>\n",
       "    <tr>\n",
       "      <th>dist_2013-08-16 00:00:00</th>\n",
       "      <td>0.153616</td>\n",
       "      <td>2.963145e-01</td>\n",
       "      <td>1.044369</td>\n",
       "      <td>-0.134675</td>\n",
       "      <td>0.441907</td>\n",
       "      <td>1.090708</td>\n",
       "    </tr>\n",
       "    <tr>\n",
       "      <th>AvgSpeed_Station</th>\n",
       "      <td>0.131078</td>\n",
       "      <td>2.130357e-02</td>\n",
       "      <td>2.302561</td>\n",
       "      <td>0.019503</td>\n",
       "      <td>0.242653</td>\n",
       "      <td>5.301786</td>\n",
       "    </tr>\n",
       "    <tr>\n",
       "      <th>Depart_Station</th>\n",
       "      <td>-0.393794</td>\n",
       "      <td>8.267252e-21</td>\n",
       "      <td>-9.356179</td>\n",
       "      <td>-0.476288</td>\n",
       "      <td>-0.311301</td>\n",
       "      <td>87.538084</td>\n",
       "    </tr>\n",
       "    <tr>\n",
       "      <th>dist_2013-07-25 00:00:00</th>\n",
       "      <td>-0.285822</td>\n",
       "      <td>1.226365e-01</td>\n",
       "      <td>-1.543801</td>\n",
       "      <td>-0.648694</td>\n",
       "      <td>0.077049</td>\n",
       "      <td>2.383322</td>\n",
       "    </tr>\n",
       "    <tr>\n",
       "      <th>Station</th>\n",
       "      <td>0.060653</td>\n",
       "      <td>8.884606e-01</td>\n",
       "      <td>0.140252</td>\n",
       "      <td>-0.786949</td>\n",
       "      <td>0.908255</td>\n",
       "      <td>0.019671</td>\n",
       "    </tr>\n",
       "  </tbody>\n",
       "</table>\n",
       "</div>"
      ],
      "text/plain": [
       "                             coeff         pvals     t_val  conf_lower  \\\n",
       "month                     0.426935  4.987416e-02  1.961042    0.000235   \n",
       "length_of_day            -0.000465  4.831834e-09 -5.852863   -0.000620   \n",
       "Cool_Station             -0.045589  3.049141e-01 -1.025952   -0.132681   \n",
       "WetBulb_Station_c         0.677639  3.085025e-02  2.158999    0.062471   \n",
       "dist_2013-08-08 00:00:00  0.256193  8.724416e-02  1.710117   -0.037429   \n",
       "Tmin_Station             -0.004126  8.952771e-01 -0.131630   -0.065557   \n",
       "DewPoint_Station          0.040160  6.286645e-01  0.483607   -0.122600   \n",
       "dist_2011-09-07 00:00:00 -0.113172  5.138592e-01 -0.652840   -0.452938   \n",
       "trap_dist_st1            -0.168545  1.214753e-02 -2.507829   -0.300270   \n",
       "ResultSpeed_Station      -0.118574  9.253574e-03 -2.602541   -0.207871   \n",
       "WetBulb_Station           0.105172  5.845636e-01  0.546731   -0.271857   \n",
       "dist_2011-08-29 00:00:00  0.164095  1.136339e-01  1.582069   -0.039196   \n",
       "rel_hum_station          -0.115975  8.660541e-07 -4.919862   -0.162177   \n",
       "dist_2013-08-16 00:00:00  0.153616  2.963145e-01  1.044369   -0.134675   \n",
       "AvgSpeed_Station          0.131078  2.130357e-02  2.302561    0.019503   \n",
       "Depart_Station           -0.393794  8.267252e-21 -9.356179   -0.476288   \n",
       "dist_2013-07-25 00:00:00 -0.285822  1.226365e-01 -1.543801   -0.648694   \n",
       "Station                   0.060653  8.884606e-01  0.140252   -0.786949   \n",
       "\n",
       "                          conf_higher  wald_chi_sq  \n",
       "month                        0.853636     3.845685  \n",
       "length_of_day               -0.000309    34.256000  \n",
       "Cool_Station                 0.041503     1.052578  \n",
       "WetBulb_Station_c            1.292808     4.661276  \n",
       "dist_2013-08-08 00:00:00     0.549815     2.924502  \n",
       "Tmin_Station                 0.057306     0.017326  \n",
       "DewPoint_Station             0.202920     0.233876  \n",
       "dist_2011-09-07 00:00:00     0.226594     0.426201  \n",
       "trap_dist_st1               -0.036821     6.289209  \n",
       "ResultSpeed_Station         -0.029276     6.773220  \n",
       "WetBulb_Station              0.482200     0.298915  \n",
       "dist_2011-08-29 00:00:00     0.367387     2.502941  \n",
       "rel_hum_station             -0.069773    24.205039  \n",
       "dist_2013-08-16 00:00:00     0.441907     1.090708  \n",
       "AvgSpeed_Station             0.242653     5.301786  \n",
       "Depart_Station              -0.311301    87.538084  \n",
       "dist_2013-07-25 00:00:00     0.077049     2.383322  \n",
       "Station                      0.908255     0.019671  "
      ]
     },
     "execution_count": 80,
     "metadata": {},
     "output_type": "execute_result"
    }
   ],
   "source": [
    "#extracting the results of this model\n",
    "def results_summary_to_df(results):\n",
    "    pvals = results.pvalues\n",
    "    coeff = results.params\n",
    "    t_val = results.tvalues\n",
    "    conf_lower = results.conf_int()[0]\n",
    "    conf_higher = results.conf_int()[1]\n",
    "\n",
    "    results_df = pd.DataFrame({\"pvals\":pvals,\"coeff\":coeff,\"t_val\":t_val,\"conf_lower\":conf_lower,\\\n",
    "                               \"conf_higher\":conf_higher,\"wald_chi_sq\":t_val*t_val})\n",
    "\n",
    "    #Reordering...\n",
    "    results_df = results_df[[\"coeff\",\"pvals\",\"t_val\",\"conf_lower\",\"conf_higher\",\"wald_chi_sq\"]]\n",
    "    return results_df\n",
    "\n",
    "results_summary_to_df(logits)"
   ]
  },
  {
   "cell_type": "code",
   "execution_count": 74,
   "metadata": {},
   "outputs": [
    {
     "name": "stdout",
     "output_type": "stream",
     "text": [
      "                           Logit Regression Results                           \n",
      "==============================================================================\n",
      "Dep. Variable:             WnvPresent   No. Observations:                 6457\n",
      "Model:                          Logit   Df Residuals:                     6439\n",
      "Method:                           MLE   Df Model:                           17\n",
      "Date:                Thu, 28 Nov 2019   Pseudo R-squ.:                  0.1250\n",
      "Time:                        17:27:58   Log-Likelihood:                -1200.5\n",
      "converged:                       True   LL-Null:                       -1372.0\n",
      "Covariance Type:            nonrobust   LLR p-value:                 1.354e-62\n",
      "============================================================================================\n",
      "                               coef    std err          z      P>|z|      [0.025      0.975]\n",
      "--------------------------------------------------------------------------------------------\n",
      "month                        0.4269      0.218      1.961      0.050       0.000       0.854\n",
      "length_of_day               -0.0005   7.94e-05     -5.853      0.000      -0.001      -0.000\n",
      "Cool_Station                -0.0456      0.044     -1.026      0.305      -0.133       0.042\n",
      "WetBulb_Station_c            0.6776      0.314      2.159      0.031       0.062       1.293\n",
      "dist_2013-08-08 00:00:00     0.2562      0.150      1.710      0.087      -0.037       0.550\n",
      "Tmin_Station                -0.0041      0.031     -0.132      0.895      -0.066       0.057\n",
      "DewPoint_Station             0.0402      0.083      0.484      0.629      -0.123       0.203\n",
      "dist_2011-09-07 00:00:00    -0.1132      0.173     -0.653      0.514      -0.453       0.227\n",
      "trap_dist_st1               -0.1685      0.067     -2.508      0.012      -0.300      -0.037\n",
      "ResultSpeed_Station         -0.1186      0.046     -2.603      0.009      -0.208      -0.029\n",
      "WetBulb_Station              0.1052      0.192      0.547      0.585      -0.272       0.482\n",
      "dist_2011-08-29 00:00:00     0.1641      0.104      1.582      0.114      -0.039       0.367\n",
      "rel_hum_station             -0.1160      0.024     -4.920      0.000      -0.162      -0.070\n",
      "dist_2013-08-16 00:00:00     0.1536      0.147      1.044      0.296      -0.135       0.442\n",
      "AvgSpeed_Station             0.1311      0.057      2.303      0.021       0.020       0.243\n",
      "Depart_Station              -0.3938      0.042     -9.356      0.000      -0.476      -0.311\n",
      "dist_2013-07-25 00:00:00    -0.2858      0.185     -1.544      0.123      -0.649       0.077\n",
      "Station                      0.0607      0.432      0.140      0.888      -0.787       0.908\n",
      "============================================================================================\n"
     ]
    }
   ],
   "source": [
    "\n",
    "print(logits.summary())"
   ]
  },
  {
   "cell_type": "markdown",
   "metadata": {},
   "source": [
    "### Scoring"
   ]
  },
  {
   "cell_type": "code",
   "execution_count": 89,
   "metadata": {},
   "outputs": [
    {
     "name": "stdout",
     "output_type": "stream",
     "text": [
      "The AUC  is  0.7763461993843239\n"
     ]
    },
    {
     "name": "stderr",
     "output_type": "stream",
     "text": [
      "/Users/sonal/anaconda3/lib/python3.7/site-packages/ipykernel_launcher.py:41: SettingWithCopyWarning: \n",
      "A value is trying to be set on a copy of a slice from a DataFrame.\n",
      "Try using .loc[row_indexer,col_indexer] = value instead\n",
      "\n",
      "See the caveats in the documentation: http://pandas.pydata.org/pandas-docs/stable/user_guide/indexing.html#returning-a-view-versus-a-copy\n",
      "/Users/sonal/anaconda3/lib/python3.7/site-packages/ipykernel_launcher.py:64: SettingWithCopyWarning: \n",
      "A value is trying to be set on a copy of a slice from a DataFrame.\n",
      "Try using .loc[row_indexer,col_indexer] = value instead\n",
      "\n",
      "See the caveats in the documentation: http://pandas.pydata.org/pandas-docs/stable/user_guide/indexing.html#returning-a-view-versus-a-copy\n"
     ]
    }
   ],
   "source": [
    "#scoring  customers based on the model created\n",
    "\n",
    "param_order=pd.DataFrame(logits.params)\n",
    "param_order.reset_index(level=0, inplace=True)\n",
    "param_order_final=param_order['index'].tolist()\n",
    "\n",
    "test_df=testing_data.reindex(columns=param_order_final)\n",
    "\n",
    "test_df['intercept']=1.0 \n",
    "test_df['pred']  = logits.predict(testing_data[cols])\n",
    "\n",
    "pred_df = pd.concat((testing_data, test_df['pred']),axis = 1)\n",
    "pred_df['decile'] = rankdata(pred_df.pred.values,method='ordinal')*10/(len(pred_df))\n",
    "pred_df['decile']=np.ceil(pred_df['decile'])\n",
    "\n",
    "\n",
    "\n",
    "# Getting AUC - Area undet the curve\n",
    "scored_file = pred_df[['WnvPresent','pred']]\n",
    "scored_file = scored_file.rename(columns={'WnvPresent': 'dep', 'pred': 'score'})\n",
    "\n",
    "# sort the data by score\n",
    "scored_file.sort_values(['score'], ascending=[True],inplace = True)\n",
    "\n",
    "# get the rank by score\n",
    "scored_file['decile'] = rankdata(scored_file.score,method='ordinal')\n",
    "\n",
    "# logic to calculate mean rank for same prob scores\n",
    "scored_file_mean = scored_file[['score','decile']]\n",
    "scored_file_mean_fl = scored_file_mean['decile'].groupby(scored_file_mean.score).mean()\n",
    "mean_rank=pd.DataFrame(scored_file_mean_fl)\n",
    "mean_rank['index1'] = mean_rank.index\n",
    "mean_rank = mean_rank.rename(columns={'decile': 'decile_new'})\n",
    "mean_rank = mean_rank.reset_index(drop = True)\n",
    "\n",
    "# merge it back to the base file to get the mean ranks\n",
    "test = pd.merge(scored_file, mean_rank, left_on = 'score', right_on = 'index1', how='left')[['dep','score','decile_new']]\n",
    "\n",
    "# get counts by dependent\n",
    "dep = scored_file[['dep']]\n",
    "dep['N']=1\n",
    "dep = dep['N'].groupby(dep.dep).sum()\n",
    "dep_fl = pd.DataFrame(dep)\n",
    "dep_fl['Class'] = dep_fl.index\n",
    "dep_fl_1 = dep_fl.reset_index(drop = True)\n",
    "\n",
    "# sum of deciles\n",
    "\n",
    "# get counts by dependent\n",
    "dep = test[['dep','decile_new']]\n",
    "\n",
    "dep = dep['decile_new'].groupby(dep.dep).sum()\n",
    "dep_fl = pd.DataFrame(dep)\n",
    "dep_fl['Class'] = dep_fl.index\n",
    "dep_fl_2 = dep_fl.reset_index(drop = True)\n",
    "\n",
    "# overall number of rows\n",
    "dep_fl_1['sum_N'] = dep_fl_1['N'].sum()\n",
    "dep_fl_1['ExpectedSum']= (dep_fl_1.N*(dep_fl_1.sum_N + 1))/2\n",
    "\n",
    "# merge the two tables to get one single tabe\n",
    "dep_fl_3 = pd.merge(dep_fl_1, dep_fl_2, left_on = 'Class', right_on = 'Class', how='inner')\n",
    "multi = dep_fl_3[['N']]\n",
    "multi['prod'] = multi['N'].product()\n",
    "multi = multi[['prod']]\n",
    "dep_fl_3 = dep_fl_3.join(multi, how = 'inner', lsuffix='_x')\n",
    "dep_fl_3['gini'] = abs(dep_fl_3.decile_new - dep_fl_3.ExpectedSum)/dep_fl_3['prod']\n",
    "dep_fl_3['AUC'] = (dep_fl_3.gini + 0.50)\n",
    "AUC = dep_fl_3[['AUC']]\n",
    "AUC_new = AUC.head(1)\n",
    "\n",
    "\n",
    "\n",
    "print (\"The AUC  is \" ,dep_fl_3['AUC'][0])"
   ]
  },
  {
   "cell_type": "code",
   "execution_count": 96,
   "metadata": {},
   "outputs": [
    {
     "data": {
      "text/html": [
       "<div>\n",
       "<style scoped>\n",
       "    .dataframe tbody tr th:only-of-type {\n",
       "        vertical-align: middle;\n",
       "    }\n",
       "\n",
       "    .dataframe tbody tr th {\n",
       "        vertical-align: top;\n",
       "    }\n",
       "\n",
       "    .dataframe thead th {\n",
       "        text-align: right;\n",
       "    }\n",
       "</style>\n",
       "<table border=\"1\" class=\"dataframe\">\n",
       "  <thead>\n",
       "    <tr style=\"text-align: right;\">\n",
       "      <th>pred</th>\n",
       "      <th>0.000047</th>\n",
       "      <th>0.000058</th>\n",
       "      <th>0.000092</th>\n",
       "      <th>0.000095</th>\n",
       "      <th>0.000096</th>\n",
       "      <th>0.000099</th>\n",
       "      <th>0.000102</th>\n",
       "      <th>0.000102</th>\n",
       "      <th>0.000103</th>\n",
       "      <th>0.000106</th>\n",
       "      <th>...</th>\n",
       "      <th>0.259107</th>\n",
       "      <th>0.261695</th>\n",
       "      <th>0.265594</th>\n",
       "      <th>0.274113</th>\n",
       "      <th>0.276535</th>\n",
       "      <th>0.286364</th>\n",
       "      <th>0.288084</th>\n",
       "      <th>0.316435</th>\n",
       "      <th>0.368941</th>\n",
       "      <th>0.410664</th>\n",
       "    </tr>\n",
       "    <tr>\n",
       "      <th>WnvPresent</th>\n",
       "      <th></th>\n",
       "      <th></th>\n",
       "      <th></th>\n",
       "      <th></th>\n",
       "      <th></th>\n",
       "      <th></th>\n",
       "      <th></th>\n",
       "      <th></th>\n",
       "      <th></th>\n",
       "      <th></th>\n",
       "      <th></th>\n",
       "      <th></th>\n",
       "      <th></th>\n",
       "      <th></th>\n",
       "      <th></th>\n",
       "      <th></th>\n",
       "      <th></th>\n",
       "      <th></th>\n",
       "      <th></th>\n",
       "      <th></th>\n",
       "      <th></th>\n",
       "    </tr>\n",
       "  </thead>\n",
       "  <tbody>\n",
       "    <tr>\n",
       "      <th>0</th>\n",
       "      <td>1</td>\n",
       "      <td>1</td>\n",
       "      <td>1</td>\n",
       "      <td>1</td>\n",
       "      <td>1</td>\n",
       "      <td>1</td>\n",
       "      <td>1</td>\n",
       "      <td>1</td>\n",
       "      <td>1</td>\n",
       "      <td>1</td>\n",
       "      <td>...</td>\n",
       "      <td>0</td>\n",
       "      <td>1</td>\n",
       "      <td>1</td>\n",
       "      <td>1</td>\n",
       "      <td>1</td>\n",
       "      <td>1</td>\n",
       "      <td>1</td>\n",
       "      <td>1</td>\n",
       "      <td>1</td>\n",
       "      <td>1</td>\n",
       "    </tr>\n",
       "    <tr>\n",
       "      <th>1</th>\n",
       "      <td>0</td>\n",
       "      <td>0</td>\n",
       "      <td>0</td>\n",
       "      <td>0</td>\n",
       "      <td>0</td>\n",
       "      <td>0</td>\n",
       "      <td>0</td>\n",
       "      <td>0</td>\n",
       "      <td>0</td>\n",
       "      <td>0</td>\n",
       "      <td>...</td>\n",
       "      <td>1</td>\n",
       "      <td>1</td>\n",
       "      <td>0</td>\n",
       "      <td>0</td>\n",
       "      <td>0</td>\n",
       "      <td>0</td>\n",
       "      <td>0</td>\n",
       "      <td>0</td>\n",
       "      <td>0</td>\n",
       "      <td>0</td>\n",
       "    </tr>\n",
       "  </tbody>\n",
       "</table>\n",
       "<p>2 rows × 1832 columns</p>\n",
       "</div>"
      ],
      "text/plain": [
       "pred        0.000047  0.000058  0.000092  0.000095  0.000096  0.000099  \\\n",
       "WnvPresent                                                               \n",
       "0                  1         1         1         1         1         1   \n",
       "1                  0         0         0         0         0         0   \n",
       "\n",
       "pred        0.000102  0.000102  0.000103  0.000106  ...  0.259107  0.261695  \\\n",
       "WnvPresent                                          ...                       \n",
       "0                  1         1         1         1  ...         0         1   \n",
       "1                  0         0         0         0  ...         1         1   \n",
       "\n",
       "pred        0.265594  0.274113  0.276535  0.286364  0.288084  0.316435  \\\n",
       "WnvPresent                                                               \n",
       "0                  1         1         1         1         1         1   \n",
       "1                  0         0         0         0         0         0   \n",
       "\n",
       "pred        0.368941  0.410664  \n",
       "WnvPresent                      \n",
       "0                  1         1  \n",
       "1                  0         0  \n",
       "\n",
       "[2 rows x 1832 columns]"
      ]
     },
     "execution_count": 96,
     "metadata": {},
     "output_type": "execute_result"
    }
   ],
   "source": [
    "matrix = pd.crosstab(scored_file.WnvPresent,scored_file.pred)\n",
    "matrix"
   ]
  },
  {
   "cell_type": "code",
   "execution_count": 104,
   "metadata": {},
   "outputs": [
    {
     "data": {
      "text/plain": [
       "array([[   0., 2050.],\n",
       "       [   0.,  103.]])"
      ]
     },
     "execution_count": 104,
     "metadata": {},
     "output_type": "execute_result"
    }
   ],
   "source": [
    "import numpy as np\n",
    "threshold = 0.5\n",
    "pred = np.array(logits.predict(testing_data[cols]) > threshold, dtype=float)\n",
    "table = np.histogram2d(testing_data.WnvPresent, pred, bins=2)[0]\n",
    "table"
   ]
  },
  {
   "cell_type": "code",
   "execution_count": 105,
   "metadata": {},
   "outputs": [
    {
     "data": {
      "text/html": [
       "<div>\n",
       "<style scoped>\n",
       "    .dataframe tbody tr th:only-of-type {\n",
       "        vertical-align: middle;\n",
       "    }\n",
       "\n",
       "    .dataframe tbody tr th {\n",
       "        vertical-align: top;\n",
       "    }\n",
       "\n",
       "    .dataframe thead th {\n",
       "        text-align: right;\n",
       "    }\n",
       "</style>\n",
       "<table border=\"1\" class=\"dataframe\">\n",
       "  <thead>\n",
       "    <tr style=\"text-align: right;\">\n",
       "      <th>pred</th>\n",
       "      <th>0.000047</th>\n",
       "      <th>0.000058</th>\n",
       "      <th>0.000092</th>\n",
       "      <th>0.000095</th>\n",
       "      <th>0.000096</th>\n",
       "      <th>0.000099</th>\n",
       "      <th>0.000102</th>\n",
       "      <th>0.000102</th>\n",
       "      <th>0.000103</th>\n",
       "      <th>0.000106</th>\n",
       "      <th>...</th>\n",
       "      <th>0.259107</th>\n",
       "      <th>0.261695</th>\n",
       "      <th>0.265594</th>\n",
       "      <th>0.274113</th>\n",
       "      <th>0.276535</th>\n",
       "      <th>0.286364</th>\n",
       "      <th>0.288084</th>\n",
       "      <th>0.316435</th>\n",
       "      <th>0.368941</th>\n",
       "      <th>0.410664</th>\n",
       "    </tr>\n",
       "    <tr>\n",
       "      <th>WnvPresent</th>\n",
       "      <th></th>\n",
       "      <th></th>\n",
       "      <th></th>\n",
       "      <th></th>\n",
       "      <th></th>\n",
       "      <th></th>\n",
       "      <th></th>\n",
       "      <th></th>\n",
       "      <th></th>\n",
       "      <th></th>\n",
       "      <th></th>\n",
       "      <th></th>\n",
       "      <th></th>\n",
       "      <th></th>\n",
       "      <th></th>\n",
       "      <th></th>\n",
       "      <th></th>\n",
       "      <th></th>\n",
       "      <th></th>\n",
       "      <th></th>\n",
       "      <th></th>\n",
       "    </tr>\n",
       "  </thead>\n",
       "  <tbody>\n",
       "    <tr>\n",
       "      <th>0</th>\n",
       "      <td>1</td>\n",
       "      <td>1</td>\n",
       "      <td>1</td>\n",
       "      <td>1</td>\n",
       "      <td>1</td>\n",
       "      <td>1</td>\n",
       "      <td>1</td>\n",
       "      <td>1</td>\n",
       "      <td>1</td>\n",
       "      <td>1</td>\n",
       "      <td>...</td>\n",
       "      <td>0</td>\n",
       "      <td>1</td>\n",
       "      <td>1</td>\n",
       "      <td>1</td>\n",
       "      <td>1</td>\n",
       "      <td>1</td>\n",
       "      <td>1</td>\n",
       "      <td>1</td>\n",
       "      <td>1</td>\n",
       "      <td>1</td>\n",
       "    </tr>\n",
       "    <tr>\n",
       "      <th>1</th>\n",
       "      <td>0</td>\n",
       "      <td>0</td>\n",
       "      <td>0</td>\n",
       "      <td>0</td>\n",
       "      <td>0</td>\n",
       "      <td>0</td>\n",
       "      <td>0</td>\n",
       "      <td>0</td>\n",
       "      <td>0</td>\n",
       "      <td>0</td>\n",
       "      <td>...</td>\n",
       "      <td>1</td>\n",
       "      <td>1</td>\n",
       "      <td>0</td>\n",
       "      <td>0</td>\n",
       "      <td>0</td>\n",
       "      <td>0</td>\n",
       "      <td>0</td>\n",
       "      <td>0</td>\n",
       "      <td>0</td>\n",
       "      <td>0</td>\n",
       "    </tr>\n",
       "  </tbody>\n",
       "</table>\n",
       "<p>2 rows × 1832 columns</p>\n",
       "</div>"
      ],
      "text/plain": [
       "pred        0.000047  0.000058  0.000092  0.000095  0.000096  0.000099  \\\n",
       "WnvPresent                                                               \n",
       "0                  1         1         1         1         1         1   \n",
       "1                  0         0         0         0         0         0   \n",
       "\n",
       "pred        0.000102  0.000102  0.000103  0.000106  ...  0.259107  0.261695  \\\n",
       "WnvPresent                                          ...                       \n",
       "0                  1         1         1         1  ...         0         1   \n",
       "1                  0         0         0         0  ...         1         1   \n",
       "\n",
       "pred        0.265594  0.274113  0.276535  0.286364  0.288084  0.316435  \\\n",
       "WnvPresent                                                               \n",
       "0                  1         1         1         1         1         1   \n",
       "1                  0         0         0         0         0         0   \n",
       "\n",
       "pred        0.368941  0.410664  \n",
       "WnvPresent                      \n",
       "0                  1         1  \n",
       "1                  0         0  \n",
       "\n",
       "[2 rows x 1832 columns]"
      ]
     },
     "execution_count": 105,
     "metadata": {},
     "output_type": "execute_result"
    }
   ],
   "source": [
    "matrix = pd.crosstab(testing_data.WnvPresent,scored_file.pred)\n",
    "matrix"
   ]
  },
  {
   "cell_type": "markdown",
   "metadata": {},
   "source": [
    "### Model 3 - with SMOTE"
   ]
  },
  {
   "cell_type": "code",
   "execution_count": 113,
   "metadata": {},
   "outputs": [],
   "source": [
    "smt = SMOTE()\n",
    "X_trainnew, Y_trainnew = smt.fit_sample(X_train, Y_train)"
   ]
  },
  {
   "cell_type": "code",
   "execution_count": 134,
   "metadata": {},
   "outputs": [
    {
     "name": "stdout",
     "output_type": "stream",
     "text": [
      "bincount : [6103 6103]\n"
     ]
    },
    {
     "data": {
      "image/png": "[encoded data removed]",
      "text/plain": [
       "<Figure size 432x288 with 1 Axes>"
      ]
     },
     "metadata": {
      "needs_background": "light"
     },
     "output_type": "display_data"
    }
   ],
   "source": [
    "sns.countplot(x = 0, data=pd.DataFrame(Y_trainnew))\n",
    "print(\"bincount :\",np.bincount(Y_trainnew))"
   ]
  },
  {
   "cell_type": "code",
   "execution_count": 114,
   "metadata": {},
   "outputs": [
    {
     "name": "stdout",
     "output_type": "stream",
     "text": [
      "Training a Logistic Regression Model...\n",
      "[LibLinear]\n",
      "\n",
      "confusion matrix\n",
      "[[1284  766]\n",
      " [  27   76]]\n",
      "\n",
      "\n",
      "Starting evaluation...\n",
      "Accuracy of the model:  0.6316767301439852\n"
     ]
    }
   ],
   "source": [
    "# INIT LOGISTIC REGRESSION CLASSIFIER\n",
    "print(\"Training a Logistic Regression Model...\",sep='\\n')\n",
    "scikit_log_reg = LogisticRegression(verbose=1, solver='liblinear',random_state=0, C=5, penalty='l2',max_iter=1000)\n",
    "\n",
    "model=scikit_log_reg.fit(X_trainnew,Y_trainnew)\n",
    "\n",
    "# Confusion Matrix -- To be run for k=2\n",
    "Y_Pred = model.predict(X_test)\n",
    "matrix = metrics.confusion_matrix(Y_test, Y_Pred)\n",
    "print(\"\\n\")\n",
    "print(\"confusion matrix\",sep='\\n')\n",
    "matrix\n",
    "\n",
    "print(matrix)\n",
    "\n",
    "# GET EVALUATION NUMBERS ON TEST SET -- HOW DID WE DO?\n",
    "print('\\n')\n",
    "print(\"Starting evaluation...\")\n",
    "\n",
    "print(\"Accuracy of the model: \",metrics.accuracy_score(Y_test, Y_Pred))\n",
    "\n",
    "\n",
    "logging.info(\"Done training and evaluation.\")"
   ]
  },
  {
   "cell_type": "code",
   "execution_count": 115,
   "metadata": {},
   "outputs": [
    {
     "name": "stdout",
     "output_type": "stream",
     "text": [
      "The value of AUC is  0.7712124082405872\n"
     ]
    },
    {
     "data": {
      "image/png": "[encoded data removed]",
      "text/plain": [
       "<Figure size 432x288 with 1 Axes>"
      ]
     },
     "metadata": {
      "needs_background": "light"
     },
     "output_type": "display_data"
    }
   ],
   "source": [
    "y_pred_proba = model.predict_proba(X_test)[::,1]\n",
    "fpr, tpr, _ = metrics.roc_curve(Y_test,  y_pred_proba)\n",
    "auc = metrics.roc_auc_score(Y_test, y_pred_proba)\n",
    "plt.plot(fpr,tpr,label=\"ROC curve\")\n",
    "print(\"The value of AUC is \",auc)\n",
    "plt.legend(loc=2)\n",
    "plt.show()"
   ]
  },
  {
   "cell_type": "code",
   "execution_count": null,
   "metadata": {},
   "outputs": [],
   "source": []
  },
  {
   "cell_type": "code",
   "execution_count": null,
   "metadata": {},
   "outputs": [],
   "source": []
  },
  {
   "cell_type": "code",
   "execution_count": null,
   "metadata": {},
   "outputs": [],
   "source": []
  },
  {
   "cell_type": "code",
   "execution_count": null,
   "metadata": {},
   "outputs": [],
   "source": []
  }
 ],
 "metadata": {
  "kernelspec": {
   "display_name": "Python 3",
   "language": "python",
   "name": "python3"
  },
  "language_info": {
   "codemirror_mode": {
    "name": "ipython",
    "version": 3
   },
   "file_extension": ".py",
   "mimetype": "text/x-python",
   "name": "python",
   "nbconvert_exporter": "python",
   "pygments_lexer": "ipython3",
   "version": "3.7.3"
  }
 },
 "nbformat": 4,
 "nbformat_minor": 2
}

{
 "cells": [
  {
   "cell_type": "code",
   "execution_count": 124,
   "metadata": {},
   "outputs": [],
   "source": [
    "#Station 1: CHICAGO O'HARE INTERNATIONAL AIRPORT Lat: 41.995 Lon: -87.933 Elev: 662 ft. above sea level\n",
    "#Station 2: CHICAGO MIDWAY INTL ARPT Lat: 41.786 Lon: -87.752 Elev: 612 ft. above sea level\n",
    "\n",
    "import pandas as pd\n",
    "import numpy as np\n",
    "import re\n",
    "\n"
   ]
  },
  {
   "cell_type": "code",
   "execution_count": 125,
   "metadata": {},
   "outputs": [
    {
     "data": {
      "text/plain": [
       "Index(['Station', 'Date', 'Tmax', 'Tmin', 'Tavg', 'Depart', 'DewPoint',\n",
       "       'WetBulb', 'Heat', 'Cool', 'Sunrise', 'Sunset', 'CodeSum',\n",
       "       'PrecipTotal', 'StnPressure', 'SeaLevel', 'ResultSpeed', 'ResultDir',\n",
       "       'AvgSpeed'],\n",
       "      dtype='object')"
      ]
     },
     "execution_count": 125,
     "metadata": {},
     "output_type": "execute_result"
    }
   ],
   "source": [
    "# Load file \"weather.csv\"\n",
    "df = pd.read_csv('/Users/jenniferwu/Documents/kaggle-competition1/datasets/weather.csv')\n",
    "\n",
    "# Drop columns:\"Depth\", \"Water1\", \"Snowfall\"\n",
    "df = df.drop(columns = ['Depth','Water1','SnowFall'])\n",
    "\n",
    "\n",
    "df.head()\n",
    "\n",
    "df.columns"
   ]
  },
  {
   "cell_type": "code",
   "execution_count": 126,
   "metadata": {},
   "outputs": [],
   "source": [
    "############ Lat and Lon Columns ############\n",
    "\n",
    "# Add columns to show where the station is (lat,lon) and its reading measures\n",
    "df['WeatherLat'] = np.where(df['Station']==1, 41.995, 41.786)\n",
    "df['WeatherLon'] = np.where(df['Station']==1, -87.933, -87.752)"
   ]
  },
  {
   "cell_type": "code",
   "execution_count": 127,
   "metadata": {},
   "outputs": [],
   "source": [
    "# Move newly added columns from the end 2 spots to after the Station column\n",
    "my_column = df.pop('WeatherLat')\n",
    "my_column1 = df.pop('WeatherLon')\n",
    "df.insert(1, my_column.name, my_column)\n",
    "df.insert(2, my_column1.name, my_column1)"
   ]
  },
  {
   "cell_type": "code",
   "execution_count": 128,
   "metadata": {},
   "outputs": [],
   "source": [
    "############ Tavg Column ############\n",
    "\n",
    "# Replace M in Tavg with Tmax-Tmin / 2 + Tmin\n",
    "df['Tavg'].replace(to_replace='M',value = (df['Tmax']-df['Tmin'])/2 + df['Tmin'], inplace=True)\n",
    "\n",
    "# Change Tavg type from object to int\n",
    "df[[\"Tavg\"]] = df[[\"Tavg\"]].astype(int)"
   ]
  },
  {
   "cell_type": "code",
   "execution_count": 129,
   "metadata": {},
   "outputs": [],
   "source": [
    "import datetime\n",
    "def convert_to_datetime(time_str):\n",
    "    try:\n",
    "        return datetime.datetime.strptime(time_str,\"%H%M\").time()\n",
    "    except Exception as e:\n",
    "        print(time_str)\n",
    "        print(e)"
   ]
  },
  {
   "cell_type": "code",
   "execution_count": 130,
   "metadata": {},
   "outputs": [
    {
     "name": "stdout",
     "output_type": "stream",
     "text": [
      "   Station  WeatherLat  WeatherLon        Date  Tmax  Tmin  Tavg Depart  \\\n",
      "0        1      41.995     -87.933  2007-05-01    83    50    67     14   \n",
      "1        2      41.786     -87.752  2007-05-01    84    52    68      M   \n",
      "2        1      41.995     -87.933  2007-05-02    59    42    51     -3   \n",
      "3        2      41.786     -87.752  2007-05-02    60    43    52      M   \n",
      "4        1      41.995     -87.933  2007-05-03    66    46    56      2   \n",
      "\n",
      "   DewPoint WetBulb  ... CodeSum PrecipTotal StnPressure SeaLevel ResultSpeed  \\\n",
      "0        51      56  ...                0.00       29.10    29.82         1.7   \n",
      "1        51      57  ...                0.00       29.18    29.82         2.7   \n",
      "2        42      47  ...      BR        0.00       29.38    30.09        13.0   \n",
      "3        42      47  ...   BR HZ        0.00       29.44    30.08        13.3   \n",
      "4        40      48  ...                0.00       29.39    30.12        11.7   \n",
      "\n",
      "  ResultDir AvgSpeed sunrise_new  sunset_new  sunset_new1  \n",
      "0        27      9.2    04:48:00        1849     18:49:00  \n",
      "1        25      9.6    00:00:00        0000     00:00:00  \n",
      "2         4     13.4    04:47:00        1850     18:50:00  \n",
      "3         2     13.4    00:00:00        0000     00:00:00  \n",
      "4         7     11.9    04:46:00        1851     18:51:00  \n",
      "\n",
      "[5 rows x 24 columns]\n"
     ]
    }
   ],
   "source": [
    "\n",
    "#Sunrise\n",
    "df['sunrise_new']=df['Sunrise'].replace('-', '0000').apply(convert_to_datetime)\n",
    "#df['sunrise_new1']=df['sunrise_new'].apply(convert_to_datetime)\n",
    "\n",
    "#Sunset\n",
    "\n",
    "df['sunset_new']=df['Sunset'].replace('-', '0000')\n",
    "df['sunset_new']=df['sunset_new'].replace('1660', '1700')\n",
    "df['sunset_new']=df['sunset_new'].replace('1760', '1800')\n",
    "df['sunset_new']=df['sunset_new'].replace('1860', '1900')\n",
    "\n",
    "df['sunset_new1']=df['sunset_new'].apply(convert_to_datetime)\n",
    "\n",
    "\n",
    "\n",
    "print(df.head())"
   ]
  },
  {
   "cell_type": "code",
   "execution_count": 131,
   "metadata": {},
   "outputs": [],
   "source": [
    "# Separate into two dataframes by station 1 and 2\n",
    "is_station1 =  df['Station']==1\n",
    "dfStation1 = df[is_station1]\n",
    "is_station2 =  df['Station']==2\n",
    "dfStation2 = df[is_station2]\n",
    "\n",
    "# Join both dataframes next to each other on the Date and add respective station label to end\n",
    "a = dfStation1.join(dfStation2.set_index('Date'), on='Date', lsuffix = '_Station1', rsuffix='_Station2')\n",
    "\n",
    "# Reset the Index of the whole dataframe\n",
    "a.reset_index(drop = True,inplace = True)"
   ]
  },
  {
   "cell_type": "code",
   "execution_count": 132,
   "metadata": {},
   "outputs": [
    {
     "name": "stdout",
     "output_type": "stream",
     "text": [
      "   Station_Station1  WeatherLat_Station1  WeatherLon_Station1        Date  \\\n",
      "0                 1               41.995              -87.933  2007-05-01   \n",
      "1                 1               41.995              -87.933  2007-05-02   \n",
      "2                 1               41.995              -87.933  2007-05-03   \n",
      "3                 1               41.995              -87.933  2007-05-04   \n",
      "4                 1               41.995              -87.933  2007-05-05   \n",
      "\n",
      "   Tmax_Station1  Tmin_Station1  Tavg_Station1 Depart_Station1  \\\n",
      "0             83             50             67              14   \n",
      "1             59             42             51              -3   \n",
      "2             66             46             56               2   \n",
      "3             66             49             58               4   \n",
      "4             66             53             60               5   \n",
      "\n",
      "   DewPoint_Station1 WetBulb_Station1  ... CodeSum_Station2  \\\n",
      "0                 51               56  ...                    \n",
      "1                 42               47  ...            BR HZ   \n",
      "2                 40               48  ...               HZ   \n",
      "3                 41               50  ...                    \n",
      "4                 38               49  ...                    \n",
      "\n",
      "  PrecipTotal_Station2 StnPressure_Station2 SeaLevel_Station2  \\\n",
      "0                 0.00                29.18             29.82   \n",
      "1                 0.00                29.44             30.08   \n",
      "2                 0.00                29.46             30.12   \n",
      "3                 0.00                29.36             30.04   \n",
      "4                    T                29.46             30.09   \n",
      "\n",
      "  ResultSpeed_Station2 ResultDir_Station2 AvgSpeed_Station2  \\\n",
      "0                  2.7                 25               9.6   \n",
      "1                 13.3                  2              13.4   \n",
      "2                 12.9                  6              13.2   \n",
      "3                 10.1                  7              10.4   \n",
      "4                 11.2                  7              11.5   \n",
      "\n",
      "  sunrise_new_Station2  sunset_new_Station2  sunset_new1_Station2  \n",
      "0             00:00:00                 0000              00:00:00  \n",
      "1             00:00:00                 0000              00:00:00  \n",
      "2             00:00:00                 0000              00:00:00  \n",
      "3             00:00:00                 0000              00:00:00  \n",
      "4             00:00:00                 0000              00:00:00  \n",
      "\n",
      "[5 rows x 47 columns]\n"
     ]
    }
   ],
   "source": [
    "print(a.head())\n",
    "############ Preciptotal Column ############\n",
    "\n",
    "# Replace M value with value from Station on same date that actually has a value\n",
    "a['PrecipTotal_Station1'].replace(to_replace='M',value = a['PrecipTotal_Station2'], inplace=True)\n",
    "a['PrecipTotal_Station2'].replace(to_replace='M',value = a['PrecipTotal_Station1'], inplace=True)\n",
    "\n",
    "# Replace T value with value from Station on same date that actually has a value\n",
    "a['PrecipTotal_Station1'].replace(to_replace='  T',value = a['PrecipTotal_Station2'], inplace=True)\n",
    "a['PrecipTotal_Station2'].replace(to_replace='  T',value = a['PrecipTotal_Station1'], inplace=True)\n"
   ]
  },
  {
   "cell_type": "code",
   "execution_count": 133,
   "metadata": {},
   "outputs": [],
   "source": [
    "\n",
    "# Now that the only T's remaining are where its in both Station1 and 2, replace with 0\n",
    "a['PrecipTotal_Station1'].replace(to_replace='  T',value = 0.00, inplace=True)\n",
    "a['PrecipTotal_Station2'].replace(to_replace='  T',value = 0.00, inplace=True)\n",
    "\n",
    "# Change PrecipTotal types to floats from objects\n",
    "a[[\"PrecipTotal_Station1\"]] = a[[\"PrecipTotal_Station1\"]].astype(float)\n",
    "a[[\"PrecipTotal_Station2\"]] = a[[\"PrecipTotal_Station2\"]].astype(float)\n",
    "\n",
    "############ STNpressure Column ############\n",
    "\n",
    "# Replace M value with value from Station on same date that actually has a value\n",
    "a['StnPressure_Station1'].replace(to_replace='M',value = a['StnPressure_Station2'], inplace=True)\n",
    "a['StnPressure_Station2'].replace(to_replace='M',value = a['StnPressure_Station1'], inplace=True)\n",
    "\n",
    "# Find Indexes of spots where both Station 1 and Station 2 have value \"M\" and replace with avg of index above and below\n",
    "Index_label1 = a[a['StnPressure_Station1']=='M'].index.tolist()\n",
    "for i in Index_label1:\n",
    "    a['StnPressure_Station2'].replace(to_replace='M',value = (float(a.at[i+1,'StnPressure_Station2']) + float(a.at[i-1,'StnPressure_Station2']))/2 , inplace=True)\n",
    "    a['StnPressure_Station1'].replace(to_replace='M', value=(float(a.at[i+1, 'StnPressure_Station1']) + float(a.at[i-1, 'StnPressure_Station1'])) / 2, inplace=True)\n",
    "\n",
    "# Change StnPressure types to floats from objects\n",
    "a[[\"StnPressure_Station1\"]] = a[[\"StnPressure_Station1\"]].astype(float)\n",
    "a[[\"StnPressure_Station2\"]] = a[[\"StnPressure_Station2\"]].astype(float)\n",
    "\n",
    "############ Sealevel Column ############\n",
    "\n",
    "# Replace M value with value from Station on same date that actually has a value\n",
    "a['SeaLevel_Station1'].replace(to_replace='M',value = a['SeaLevel_Station2'], inplace=True)\n",
    "a['SeaLevel_Station2'].replace(to_replace='M',value = a['SeaLevel_Station1'], inplace=True)\n",
    "\n",
    "# Change Sealevel types to floats from objects\n",
    "a[[\"SeaLevel_Station1\"]] = a[[\"SeaLevel_Station1\"]].astype(float)\n",
    "a[[\"SeaLevel_Station2\"]] = a[[\"SeaLevel_Station2\"]].astype(float)\n",
    "\n",
    "############ AvgSpeed Column ############\n",
    "\n",
    "# Replace M value with value from Station on same date that actually has a value\n",
    "a['AvgSpeed_Station1'].replace(to_replace='M',value = a['AvgSpeed_Station2'], inplace=True)\n",
    "a['AvgSpeed_Station2'].replace(to_replace='M',value = a['AvgSpeed_Station1'], inplace=True)\n",
    "\n",
    "# Change AvgSpeed types to floats from objects\n",
    "a[[\"AvgSpeed_Station1\"]] = a[[\"AvgSpeed_Station1\"]].astype(float)\n",
    "a[[\"AvgSpeed_Station2\"]] = a[[\"AvgSpeed_Station2\"]].astype(float)"
   ]
  },
  {
   "cell_type": "code",
   "execution_count": 134,
   "metadata": {},
   "outputs": [],
   "source": [
    "a['Depart_Station2'] = np.where((a.Depart_Station2 == 'M'),\n",
    "                                            a.Depart_Station1, a.Depart_Station2)"
   ]
  },
  {
   "cell_type": "code",
   "execution_count": 135,
   "metadata": {},
   "outputs": [],
   "source": [
    "for col in ['Heat_Station2']:\n",
    "    a[col] = a[col].fillna(a['Heat_Station1'])"
   ]
  },
  {
   "cell_type": "code",
   "execution_count": 136,
   "metadata": {},
   "outputs": [],
   "source": [
    "a['Heat_Station2'] = np.where((a.Heat_Station2 == 'M'),\n",
    "                                            a.Heat_Station1, a.Heat_Station2)\n"
   ]
  },
  {
   "cell_type": "code",
   "execution_count": 137,
   "metadata": {},
   "outputs": [],
   "source": [
    "a['WetBulb_Station1']= pd.to_numeric(a['WetBulb_Station1'], errors = 'coerce')\n",
    "# calculate mean of WetBulb_Station1 = WetBulb_Station1_mean\n",
    "WetBulb_Station1_mean = a['WetBulb_Station1'].mean(skipna = True)"
   ]
  },
  {
   "cell_type": "code",
   "execution_count": 138,
   "metadata": {},
   "outputs": [],
   "source": [
    "#replace the missing value of WetBulb_Station1 with the WetBulb_Station1_mean\n",
    "a['WetBulb_Station1'] = a.WetBulb_Station1.fillna(WetBulb_Station1_mean)"
   ]
  },
  {
   "cell_type": "code",
   "execution_count": 139,
   "metadata": {},
   "outputs": [],
   "source": [
    "#change the type of Wetbulb_Station2 Column to numeric \n",
    "a['WetBulb_Station2']= pd.to_numeric(a['WetBulb_Station2'], errors = 'coerce')\n",
    "# calculate mean of WetBulb_Station2\n",
    "WetBulb_Station2_mean = a['WetBulb_Station2'].mean(skipna = True)\n",
    "a['WetBulb_Station2'] = a.WetBulb_Station2.fillna(WetBulb_Station2_mean)\n"
   ]
  },
  {
   "cell_type": "code",
   "execution_count": 140,
   "metadata": {},
   "outputs": [],
   "source": [
    "def to_celcius(x):\n",
    "    c = ((x-32)/9)*5\n",
    "    return(c)\n",
    "\n",
    "def rel_hum(dry,wet,press=0.6687451584):\n",
    "    e = float(math.e)\n",
    "    ed = 6.112*(e**((17.502*dry)/(240.97+dry)))\n",
    "    ew = 6.112*(e**((17.502*wet)/(240.97+wet)))\n",
    "    result = (ew-press*(1+.00115*wet)*(dry-wet))/ed*100\n",
    "    return(result)"
   ]
  },
  {
   "cell_type": "code",
   "execution_count": 141,
   "metadata": {},
   "outputs": [],
   "source": [
    "a['Tavg_Station1']= pd.to_numeric(a['Tavg_Station1'], errors = 'coerce')\n",
    "a['Tavg_Station2']= pd.to_numeric(a['Tavg_Station2'], errors = 'coerce')\n",
    "#final_station['StnPressure_Station1']= pd.to_numeric(final_station['StnPressure_Station1'], errors = 'coerce')"
   ]
  },
  {
   "cell_type": "code",
   "execution_count": 142,
   "metadata": {},
   "outputs": [],
   "source": [
    "import math\n",
    "a['WetBulb_Station1_c']=a.WetBulb_Station1.apply(to_celcius)\n",
    "a['Tavg_Station1_c']=a.Tavg_Station1.apply(to_celcius)\n",
    "\n",
    "a['WetBulb_Station2_c']=a.WetBulb_Station2.apply(to_celcius)\n",
    "a['Tavg_Station2_c']=a.Tavg_Station2.apply(to_celcius)\n",
    "\n",
    "a['rel_hum_station1']=rel_hum(a['Tavg_Station1_c'],a['WetBulb_Station1_c'])\n",
    "a['rel_hum_station2']=rel_hum(a['Tavg_Station2_c'],a['WetBulb_Station2_c'])"
   ]
  },
  {
   "cell_type": "code",
   "execution_count": 143,
   "metadata": {},
   "outputs": [],
   "source": [
    "# replacing station 2 sunset and sunrise with station 1 values\n",
    "a[[\"sunrise_new_Station2\"]] = a[[\"sunrise_new_Station2\"]].astype(str)\n",
    "a[[\"sunset_new1_Station2\"]] = a[[\"sunset_new1_Station2\"]].astype(str)\n",
    "a['sunrise_new_Station2'].replace(to_replace='00:00:00',value = a['sunrise_new_Station1'], inplace=True)\n",
    "a['sunset_new1_Station2'].replace(to_replace='00:00:00',value = a['sunset_new1_Station1'], inplace=True)\n",
    "\n",
    "#drop sunrise and sunset columns not needed\n",
    "a = a.drop(columns = ['Sunrise_Station1','Sunset_Station1','sunset_new_Station1','sunset_new_Station2'])\n",
    "\n",
    "#rename sunrise and sunset columns \n",
    "a.rename(columns={\"sunrise_new_Station1\":\"Sunrise_Station1\",\"sunset_new1_Station1\":\"Sunset_Station1\",\n",
    "                  \"sunrise_new_Station2\":\"Sunrise_Station2\",\"sunset_new1_Station2\":\"Sunset_Station2\"},inplace = True)    \n",
    "\n",
    "#codeSum\n",
    "a['CodeSum_Station1']=a['CodeSum_Station1'].replace(' ', 'NO EVENT')\n",
    "a['CodeSum_Station2']=a['CodeSum_Station2'].replace(' ', 'NO EVENT')    \n",
    "\n",
    "\n",
    "#cool\n",
    "a['Cool_Station2'] = np.where((a.Cool_Station2 == 'M'),a.Cool_Station1, a.Cool_Station2)\n"
   ]
  }
 ],
 "metadata": {
  "kernelspec": {
   "display_name": "Python 3",
   "language": "python",
   "name": "python3"
  },
  "language_info": {
   "codemirror_mode": {
    "name": "ipython",
    "version": 3
   },
   "file_extension": ".py",
   "mimetype": "text/x-python",
   "name": "python",
   "nbconvert_exporter": "python",
   "pygments_lexer": "ipython3",
   "version": "3.7.4"
  }
 },
 "nbformat": 4,
 "nbformat_minor": 2
}

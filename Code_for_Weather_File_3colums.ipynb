{
 "cells": [
  {
   "cell_type": "code",
   "execution_count": null,
   "metadata": {},
   "outputs": [],
   "source": [
    "#Objective : missing value treatment on Weather file\n",
    "#columns : Cool, Sunrise, Sunset, Codesum"
   ]
  },
  {
   "cell_type": "code",
   "execution_count": null,
   "metadata": {},
   "outputs": [],
   "source": [
    "import pandas as pd\n",
    "import numpy as np"
   ]
  },
  {
   "cell_type": "code",
   "execution_count": null,
   "metadata": {},
   "outputs": [],
   "source": [
    "weather = pd.read_csv('weather.csv')"
   ]
  },
  {
   "cell_type": "code",
   "execution_count": null,
   "metadata": {},
   "outputs": [],
   "source": [
    "# function for Sunrise and sunset"
   ]
  },
  {
   "cell_type": "code",
   "execution_count": null,
   "metadata": {},
   "outputs": [],
   "source": [
    "import datetime\n",
    "def convert_to_datetime(time_str):\n",
    "    try:\n",
    "        return datetime.datetime.strptime(time_str,\"%H%M\").time()\n",
    "    except Exception as e:\n",
    "        print(time_str)\n",
    "        print(e)\n",
    "        "
   ]
  },
  {
   "cell_type": "code",
   "execution_count": null,
   "metadata": {},
   "outputs": [],
   "source": [
    "#Sunrise"
   ]
  },
  {
   "cell_type": "code",
   "execution_count": null,
   "metadata": {},
   "outputs": [],
   "source": [
    "weather['sunrise_new']=weather['Sunrise'].replace('-', '0000')"
   ]
  },
  {
   "cell_type": "code",
   "execution_count": null,
   "metadata": {},
   "outputs": [],
   "source": [
    "weather['sunrise_new1']=weather['sunrise_new'].apply(convert_to_datetime)"
   ]
  },
  {
   "cell_type": "code",
   "execution_count": null,
   "metadata": {},
   "outputs": [],
   "source": [
    "#Sunset"
   ]
  },
  {
   "cell_type": "code",
   "execution_count": null,
   "metadata": {},
   "outputs": [],
   "source": [
    "weather['sunset_new']=weather['Sunset'].replace('-', '0000')\n"
   ]
  },
  {
   "cell_type": "code",
   "execution_count": null,
   "metadata": {},
   "outputs": [],
   "source": [
    "weather['sunset_new']=weather['sunset_new'].replace('1660', '1700')\n",
    "weather['sunset_new']=weather['sunset_new'].replace('1760', '1800')\n",
    "weather['sunset_new']=weather['sunset_new'].replace('1860', '1900')\n"
   ]
  },
  {
   "cell_type": "code",
   "execution_count": null,
   "metadata": {},
   "outputs": [],
   "source": [
    "weather['sunset_new1']=weather['sunset_new'].apply(convert_to_datetime)"
   ]
  },
  {
   "cell_type": "code",
   "execution_count": null,
   "metadata": {},
   "outputs": [],
   "source": [
    "#Separate into two dataframes by station 1 and 2\n",
    "is_station1 = weather['Station']==1\n",
    "dfStation1 = weather[is_station1]\n",
    "\n",
    "is_station2 = weather['Station']==2\n",
    "dfStation2 = weather[is_station2]\n",
    "\n",
    "#Join both dataframes next to each other on the Date\n",
    "all_data = dfStation1.join(dfStation2.set_index('Date'), on='Date', lsuffix = '_Station1', rsuffix='_Station2')\n"
   ]
  },
  {
   "cell_type": "code",
   "execution_count": null,
   "metadata": {},
   "outputs": [],
   "source": [
    "all_data['sunrise_new1_Station2'] = np.where((all_data.sunrise_new1_Station2 == '00:00:00'),all_data.sunrise_new1_Station1, all_data.sunrise_new1_Station2)"
   ]
  },
  {
   "cell_type": "code",
   "execution_count": null,
   "metadata": {},
   "outputs": [],
   "source": [
    "all_data['sunset_new1_Station2'] = np.where((all_data.sunset_new1_Station2 == '00:00:00'),all_data.sunset_new1_Station1, all_data.sunset_new1_Station2)"
   ]
  },
  {
   "cell_type": "code",
   "execution_count": null,
   "metadata": {},
   "outputs": [],
   "source": [
    "#CodeSum"
   ]
  },
  {
   "cell_type": "code",
   "execution_count": null,
   "metadata": {},
   "outputs": [],
   "source": [
    "all_data['CodeSum_Station1']=all_data['CodeSum_Station1'].replace(' ', 'NO EVENT')\n",
    "all_data['CodeSum_Station2']=all_data['CodeSum_Station2'].replace(' ', 'NO EVENT')"
   ]
  },
  {
   "cell_type": "code",
   "execution_count": null,
   "metadata": {},
   "outputs": [],
   "source": [
    "#Cool"
   ]
  },
  {
   "cell_type": "code",
   "execution_count": null,
   "metadata": {},
   "outputs": [],
   "source": [
    "all_data['Cool_Station2'] = np.where((all_data.Cool_Station2 == 'M'),all_data.Cool_Station1, all_data.Cool_Station2)"
   ]
  }
 ],
 "metadata": {
  "kernelspec": {
   "display_name": "Python 3",
   "language": "python",
   "name": "python3"
  },
  "language_info": {
   "codemirror_mode": {
    "name": "ipython",
    "version": 3
   },
   "file_extension": ".py",
   "mimetype": "text/x-python",
   "name": "python",
   "nbconvert_exporter": "python",
   "pygments_lexer": "ipython3",
   "version": "3.7.3"
  }
 },
 "nbformat": 4,
 "nbformat_minor": 2
}
